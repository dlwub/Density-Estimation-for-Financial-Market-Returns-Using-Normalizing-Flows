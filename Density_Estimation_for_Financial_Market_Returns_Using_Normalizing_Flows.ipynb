{
  "cells": [
    {
      "cell_type": "markdown",
      "metadata": {
        "id": "view-in-github",
        "colab_type": "text"
      },
      "source": [
        "<a href=\"https://colab.research.google.com/github/dlwub/Density-Estimation-for-Financial-Market-Returns-Using-Normalizing-Flows/blob/master/Density_Estimation_for_Financial_Market_Returns_Using_Normalizing_Flows.ipynb\" target=\"_parent\"><img src=\"https://colab.research.google.com/assets/colab-badge.svg\" alt=\"Open In Colab\"/></a>"
      ]
    },
    {
      "cell_type": "code",
      "execution_count": 1,
      "metadata": {
        "colab": {
          "base_uri": "https://localhost:8080/",
          "height": 1000
        },
        "collapsed": true,
        "id": "HXkk59b4r_vM",
        "outputId": "971e57e6-b3d7-4a98-b5a8-876ff8e95f5d"
      },
      "outputs": [
        {
          "output_type": "stream",
          "name": "stdout",
          "text": [
            "Collecting tensorflow-probability==0.25.0\n",
            "  Downloading tensorflow_probability-0.25.0-py2.py3-none-any.whl.metadata (13 kB)\n",
            "Collecting absl-py (from tensorflow-probability==0.25.0)\n",
            "  Downloading absl_py-2.1.0-py3-none-any.whl.metadata (2.3 kB)\n",
            "Collecting six>=1.10.0 (from tensorflow-probability==0.25.0)\n",
            "  Downloading six-1.17.0-py2.py3-none-any.whl.metadata (1.7 kB)\n",
            "Collecting numpy>=1.13.3 (from tensorflow-probability==0.25.0)\n",
            "  Downloading numpy-2.2.3-cp311-cp311-manylinux_2_17_x86_64.manylinux2014_x86_64.whl.metadata (62 kB)\n",
            "\u001b[2K     \u001b[90m━━━━━━━━━━━━━━━━━━━━━━━━━━━━━━━━━━━━━━━━\u001b[0m \u001b[32m62.0/62.0 kB\u001b[0m \u001b[31m3.0 MB/s\u001b[0m eta \u001b[36m0:00:00\u001b[0m\n",
            "\u001b[?25hCollecting decorator (from tensorflow-probability==0.25.0)\n",
            "  Downloading decorator-5.2.1-py3-none-any.whl.metadata (3.9 kB)\n",
            "Collecting cloudpickle>=1.3 (from tensorflow-probability==0.25.0)\n",
            "  Downloading cloudpickle-3.1.1-py3-none-any.whl.metadata (7.1 kB)\n",
            "Collecting gast>=0.3.2 (from tensorflow-probability==0.25.0)\n",
            "  Downloading gast-0.6.0-py3-none-any.whl.metadata (1.3 kB)\n",
            "Collecting dm-tree (from tensorflow-probability==0.25.0)\n",
            "  Downloading dm_tree-0.1.9-cp311-cp311-manylinux_2_17_x86_64.manylinux2014_x86_64.whl.metadata (2.2 kB)\n",
            "Collecting attrs>=18.2.0 (from dm-tree->tensorflow-probability==0.25.0)\n",
            "  Downloading attrs-25.1.0-py3-none-any.whl.metadata (10 kB)\n",
            "Collecting wrapt>=1.11.2 (from dm-tree->tensorflow-probability==0.25.0)\n",
            "  Downloading wrapt-1.17.2-cp311-cp311-manylinux_2_5_x86_64.manylinux1_x86_64.manylinux_2_17_x86_64.manylinux2014_x86_64.whl.metadata (6.4 kB)\n",
            "Downloading tensorflow_probability-0.25.0-py2.py3-none-any.whl (7.0 MB)\n",
            "\u001b[2K   \u001b[90m━━━━━━━━━━━━━━━━━━━━━━━━━━━━━━━━━━━━━━━━\u001b[0m \u001b[32m7.0/7.0 MB\u001b[0m \u001b[31m87.9 MB/s\u001b[0m eta \u001b[36m0:00:00\u001b[0m\n",
            "\u001b[?25hDownloading cloudpickle-3.1.1-py3-none-any.whl (20 kB)\n",
            "Downloading gast-0.6.0-py3-none-any.whl (21 kB)\n",
            "Downloading numpy-2.2.3-cp311-cp311-manylinux_2_17_x86_64.manylinux2014_x86_64.whl (16.4 MB)\n",
            "\u001b[2K   \u001b[90m━━━━━━━━━━━━━━━━━━━━━━━━━━━━━━━━━━━━━━━━\u001b[0m \u001b[32m16.4/16.4 MB\u001b[0m \u001b[31m72.2 MB/s\u001b[0m eta \u001b[36m0:00:00\u001b[0m\n",
            "\u001b[?25hDownloading six-1.17.0-py2.py3-none-any.whl (11 kB)\n",
            "Downloading absl_py-2.1.0-py3-none-any.whl (133 kB)\n",
            "\u001b[2K   \u001b[90m━━━━━━━━━━━━━━━━━━━━━━━━━━━━━━━━━━━━━━━━\u001b[0m \u001b[32m133.7/133.7 kB\u001b[0m \u001b[31m9.7 MB/s\u001b[0m eta \u001b[36m0:00:00\u001b[0m\n",
            "\u001b[?25hDownloading decorator-5.2.1-py3-none-any.whl (9.2 kB)\n",
            "Downloading dm_tree-0.1.9-cp311-cp311-manylinux_2_17_x86_64.manylinux2014_x86_64.whl (152 kB)\n",
            "\u001b[2K   \u001b[90m━━━━━━━━━━━━━━━━━━━━━━━━━━━━━━━━━━━━━━━━\u001b[0m \u001b[32m152.9/152.9 kB\u001b[0m \u001b[31m12.0 MB/s\u001b[0m eta \u001b[36m0:00:00\u001b[0m\n",
            "\u001b[?25hDownloading attrs-25.1.0-py3-none-any.whl (63 kB)\n",
            "\u001b[2K   \u001b[90m━━━━━━━━━━━━━━━━━━━━━━━━━━━━━━━━━━━━━━━━\u001b[0m \u001b[32m63.2/63.2 kB\u001b[0m \u001b[31m5.7 MB/s\u001b[0m eta \u001b[36m0:00:00\u001b[0m\n",
            "\u001b[?25hDownloading wrapt-1.17.2-cp311-cp311-manylinux_2_5_x86_64.manylinux1_x86_64.manylinux_2_17_x86_64.manylinux2014_x86_64.whl (83 kB)\n",
            "\u001b[2K   \u001b[90m━━━━━━━━━━━━━━━━━━━━━━━━━━━━━━━━━━━━━━━━\u001b[0m \u001b[32m83.2/83.2 kB\u001b[0m \u001b[31m6.4 MB/s\u001b[0m eta \u001b[36m0:00:00\u001b[0m\n",
            "\u001b[?25hInstalling collected packages: wrapt, six, numpy, gast, decorator, cloudpickle, attrs, absl-py, dm-tree, tensorflow-probability\n",
            "  Attempting uninstall: wrapt\n",
            "    Found existing installation: wrapt 1.17.2\n",
            "    Uninstalling wrapt-1.17.2:\n",
            "      Successfully uninstalled wrapt-1.17.2\n",
            "  Attempting uninstall: six\n",
            "    Found existing installation: six 1.17.0\n",
            "    Uninstalling six-1.17.0:\n",
            "      Successfully uninstalled six-1.17.0\n",
            "  Attempting uninstall: numpy\n",
            "    Found existing installation: numpy 1.26.4\n",
            "    Uninstalling numpy-1.26.4:\n",
            "      Successfully uninstalled numpy-1.26.4\n",
            "  Attempting uninstall: gast\n",
            "    Found existing installation: gast 0.6.0\n",
            "    Uninstalling gast-0.6.0:\n",
            "      Successfully uninstalled gast-0.6.0\n",
            "  Attempting uninstall: decorator\n",
            "    Found existing installation: decorator 4.4.2\n",
            "    Uninstalling decorator-4.4.2:\n",
            "      Successfully uninstalled decorator-4.4.2\n",
            "  Attempting uninstall: cloudpickle\n",
            "    Found existing installation: cloudpickle 3.1.1\n",
            "    Uninstalling cloudpickle-3.1.1:\n",
            "      Successfully uninstalled cloudpickle-3.1.1\n",
            "  Attempting uninstall: attrs\n",
            "    Found existing installation: attrs 25.1.0\n",
            "    Uninstalling attrs-25.1.0:\n",
            "      Successfully uninstalled attrs-25.1.0\n",
            "  Attempting uninstall: absl-py\n",
            "    Found existing installation: absl-py 1.4.0\n",
            "    Uninstalling absl-py-1.4.0:\n",
            "      Successfully uninstalled absl-py-1.4.0\n",
            "  Attempting uninstall: dm-tree\n",
            "    Found existing installation: dm-tree 0.1.9\n",
            "    Uninstalling dm-tree-0.1.9:\n",
            "      Successfully uninstalled dm-tree-0.1.9\n",
            "  Attempting uninstall: tensorflow-probability\n",
            "    Found existing installation: tensorflow-probability 0.25.0\n",
            "    Uninstalling tensorflow-probability-0.25.0:\n",
            "      Successfully uninstalled tensorflow-probability-0.25.0\n",
            "\u001b[31mERROR: pip's dependency resolver does not currently take into account all the packages that are installed. This behaviour is the source of the following dependency conflicts.\n",
            "ipython 7.34.0 requires jedi>=0.16, which is not installed.\n",
            "tensorflow 2.18.0 requires numpy<2.1.0,>=1.26.0, but you have numpy 2.2.3 which is incompatible.\n",
            "thinc 8.2.5 requires numpy<2.0.0,>=1.19.0; python_version >= \"3.9\", but you have numpy 2.2.3 which is incompatible.\n",
            "pytensor 2.27.1 requires numpy<2,>=1.17.0, but you have numpy 2.2.3 which is incompatible.\n",
            "moviepy 1.0.3 requires decorator<5.0,>=4.0.2, but you have decorator 5.2.1 which is incompatible.\n",
            "langchain 0.3.19 requires numpy<2,>=1.26.4; python_version < \"3.12\", but you have numpy 2.2.3 which is incompatible.\n",
            "numba 0.61.0 requires numpy<2.2,>=1.24, but you have numpy 2.2.3 which is incompatible.\n",
            "gensim 4.3.3 requires numpy<2.0,>=1.18.5, but you have numpy 2.2.3 which is incompatible.\u001b[0m\u001b[31m\n",
            "\u001b[0mSuccessfully installed absl-py-2.1.0 attrs-25.1.0 cloudpickle-3.1.1 decorator-5.2.1 dm-tree-0.1.9 gast-0.6.0 numpy-2.2.3 six-1.17.0 tensorflow-probability-0.25.0 wrapt-1.17.2\n"
          ]
        },
        {
          "output_type": "display_data",
          "data": {
            "application/vnd.colab-display-data+json": {
              "pip_warning": {
                "packages": [
                  "decorator",
                  "six"
                ]
              },
              "id": "a358032908af4e999439f0dc90f23273"
            }
          },
          "metadata": {}
        }
      ],
      "source": [
        "!pip install --force-reinstall tensorflow-probability==0.25.0"
      ]
    },
    {
      "cell_type": "markdown",
      "metadata": {
        "id": "NThF5cHQKvSB"
      },
      "source": [
        "#### **Project Overview:** This project involves applying **normalizing flows** to model and estimate the probability distributions of financial market returns. Instead of assuming a normal probability distribution (which is inaccurate for financial data), we will learn a **flexible probability distribution** using normalizing flows."
      ]
    },
    {
      "cell_type": "markdown",
      "metadata": {
        "id": "AWI0cB9hgDG4"
      },
      "source": [
        "**What is a Normalizing Flow?**\n",
        "\n",
        "A normalizing flow is a technique that enables us to transform a simple probability distribution (e.g., a Gaussian) into a more complex distribution through a series of invertible transformations. By using a chain of such transformations, the flow allows us to model complex data distributions.\n",
        "\n",
        "In a normalizing flow, the goal is to map a simple base distribution $p_Z(z)$ (e.g., normal distribution) to the complex data distribution $p_X(x)$. For a given data point $x$ in the transformed distribution, the flow transformation is modeled as:\n",
        "\n",
        "$x = f(z; \\theta)$ where $\\theta$ represents the parameters of the non-linear transformation (neural network).\n",
        "\n",
        "The relationship between the probability density functions of the $\\text{data space}^{*} (p_Z(z)$ and the $\\text{latent space}^{**} (p_X(x))$ is given by:\n",
        "\n",
        "$\n",
        "p_X(x) = p_z(f^{-1}(x; \\theta)) \\left| \\det \\frac{\\partial f^{-1}(x, \\theta)}{\\partial x} \\right|\n",
        "\\$\n",
        "\n",
        "Where:\n",
        "- $ f$ is the transformation function (invertible neural network).\n",
        "- $ z$ is the data point in the latent space.\n",
        "- $x$ is the transformed sample in the data space.\n",
        "- $p_X$ and $p_Z$ are the probability densities of the data and latent variables, respectively.\n",
        "\n",
        "The Jacobian determinant $\\left| \\det \\frac{\\partial f^{-1}}{\\partial x} \\right|$ scales the distribution according to the transformation's volume change.\n",
        "\n",
        "#### The log-likelihood of a data point can be computed as:\n",
        "$log p_X(x) = log p_Z(f^{-1}(x; \\theta)) + log \\left| \\det \\frac{\\partial f^{-1}(x, \\theta)}{\\partial x} \\right|$\n",
        "#### However, $\\left| \\det \\frac{\\partial f^{-1}(x, \\theta)}{\\partial x} \\right| = \\left| \\det \\frac{\\partial f(z, \\theta)}{\\partial z} \\right|^{-1}$\n",
        "#### Hence, we get $log p_X(x) = log p_Z(z) - log \\left| \\det J_f(z, \\theta) \\right|$\n",
        "\n",
        "#### where $J_f(z, \\theta) = \\frac{\\partial f}{\\partial z}$ is the Jacobian of the transformation.\n",
        "\n",
        "$ * \\ \\text{Data space:}$ is the original space where our data exists. For example, if we have images, the data space is where each image is represented by its pixels (e.g., a 28x28 pixel image would have 28x28 = 784 features or values). Essentially, the data space is where our raw data (such as images, text, or any other dataset) is represented.\n",
        "\n",
        "$ ** \\text{ Latent space:}$ is a transformed, often simplified, space where the model learns to represent the data in a more compact or useful way. We can think of it as a compressed or abstract version of the data that captures important features but in fewer dimensions. It is a kind of \"hidden\" space (hence the name latent space) that is harder to interpret directly but useful for machine learning models. The latent space allows the model to work with this compressed version of the data instead of the full, complex data space.\n",
        "\n",
        "In other words, the latent space is where we define the simple distribution (usually Gaussian) and the data space where the transformed (or complex distribution) resides after applying the normalizing flows."
      ]
    },
    {
      "cell_type": "markdown",
      "metadata": {
        "id": "r-JorNKWKObE"
      },
      "source": [
        "#### Import necessary libraries"
      ]
    },
    {
      "cell_type": "code",
      "execution_count": 20,
      "metadata": {
        "id": "eiEtVQhgJYpM"
      },
      "outputs": [],
      "source": [
        "import yfinance as yf\n",
        "import numpy as np\n",
        "import pandas as pd\n",
        "import matplotlib.pyplot as plt\n",
        "import scipy.stats as stats\n",
        "from scipy.stats import skew, kurtosis\n",
        "import tensorflow as tf\n",
        "from tensorflow import keras\n",
        "from tensorflow.keras import layers\n",
        "import tensorflow_probability as tfp\n",
        "from sklearn.model_selection import train_test_split\n",
        "from sklearn.preprocessing import StandardScaler\n",
        "from sklearn.metrics import mean_squared_error"
      ]
    },
    {
      "cell_type": "markdown",
      "metadata": {
        "id": "NB4zs9sPL3un"
      },
      "source": [
        "### Step 1. Load and preprocess financial data\n",
        "#### We use S&P500 historical data"
      ]
    },
    {
      "cell_type": "code",
      "execution_count": 14,
      "metadata": {
        "colab": {
          "base_uri": "https://localhost:8080/",
          "height": 469
        },
        "id": "1sV1P8SLL68r",
        "outputId": "4719e519-49ca-4987-ab84-3e1c9f5d6876"
      },
      "outputs": [
        {
          "output_type": "stream",
          "name": "stderr",
          "text": [
            "\r[*********************100%***********************]  1 of 1 completed\n"
          ]
        },
        {
          "output_type": "display_data",
          "data": {
            "text/plain": [
              "<Figure size 640x480 with 1 Axes>"
            ],
            "image/png": "[encoded data removed]"
          },
          "metadata": {}
        }
      ],
      "source": [
        "ticker = '^GSPC'\n",
        "data = yf.download(ticker, start='2000-01-01', end='2025-01-01')\n",
        "data['Return'] = data['Close'].pct_change().dropna()\n",
        "returns = data['Return'].dropna()\n",
        "plt.hist(returns, bins=100, density=True, alpha=0.6, color='b')\n",
        "plt.title(\"Histogram of S & P 500 returns\")\n",
        "plt.show()"
      ]
    },
    {
      "cell_type": "markdown",
      "metadata": {
        "id": "o-ZbCDLzlx7n"
      },
      "source": [
        "#### Standardize the data"
      ]
    },
    {
      "cell_type": "code",
      "execution_count": 21,
      "metadata": {
        "id": "RPGTsXjqlw-q"
      },
      "outputs": [],
      "source": [
        "scaler = StandardScaler()\n",
        "returns_scaled = scaler.fit_transform(returns.values.reshape(-1, 1))\n",
        "X_train, X_test = train_test_split(returns_scaled, test_size=0.2, shuffle=False)\n",
        "results = {}"
      ]
    },
    {
      "cell_type": "markdown",
      "metadata": {
        "id": "L1gkfVeGP6E8"
      },
      "source": [
        "#### To determine whether the returns follow a Gaussian or t-distribution, we analuze their skewness, kurtosis, and Q-Q plots."
      ]
    },
    {
      "cell_type": "code",
      "execution_count": 16,
      "metadata": {
        "colab": {
          "base_uri": "https://localhost:8080/"
        },
        "id": "CNxfu1DKPOV9",
        "outputId": "3abee0dc-8d1f-4d42-ae4a-513d440f5926"
      },
      "outputs": [
        {
          "output_type": "stream",
          "name": "stdout",
          "text": [
            "Skewness:-0.16235197462270953\n",
            "Kurtosis:10.184075008237489\n"
          ]
        }
      ],
      "source": [
        "print(f'Skewness:{skew(returns)}')\n",
        "print(f'Kurtosis:{kurtosis(returns)}')"
      ]
    },
    {
      "cell_type": "markdown",
      "metadata": {
        "id": "d2CKyMoPQ_zl"
      },
      "source": [
        "#### The skewness (-0.16) is close to 0, which shows the distribution is nearly symmetric (returns have slightly negative more extreme negative values).\n",
        "#### The kurtosis of a normal distribution is $\\approx$ 3. The returns' kurtosis (10.18) is much higher, which suggests the returns have fat tails (i.e extreme price movements occur than expected under normal distribution)."
      ]
    },
    {
      "cell_type": "code",
      "execution_count": 22,
      "metadata": {
        "colab": {
          "base_uri": "https://localhost:8080/",
          "height": 472
        },
        "id": "UFc5YNhHSrDY",
        "outputId": "712220cd-864e-44ba-f312-769f343bdf0f"
      },
      "outputs": [
        {
          "output_type": "display_data",
          "data": {
            "text/plain": [
              "<Figure size 640x480 with 1 Axes>"
            ],
            "image/png": "[encoded data removed]"
          },
          "metadata": {}
        }
      ],
      "source": [
        "# Q-Q Plots\n",
        "stats.probplot(returns, dist='norm', plot=plt)\n",
        "plt.title(\"Q-Q Plot of Returns\")\n",
        "plt.show()"
      ]
    },
    {
      "cell_type": "markdown",
      "metadata": {
        "id": "24kg4vwNTmD1"
      },
      "source": [
        "#### The tails deviate from the diagonal. Hence, normalizing flows will be of help."
      ]
    },
    {
      "cell_type": "markdown",
      "metadata": {
        "id": "3kkZnhvfZl6N"
      },
      "source": [
        "### Step 2. Using RealNVP Normalizing Flow Model"
      ]
    },
    {
      "cell_type": "markdown",
      "metadata": {
        "id": "4KI13ZAjljFx"
      },
      "source": [
        "## What is RealNVP?\n",
        "\n",
        "RealNVP (Real-valued Non-Volume Preserving) model belongs to a broad class of normalizing flows called coupling flows, that uses affine coupling layers to build a series of invertible transformations. These transformations are designed to be computationally efficient and easy to invert, making them suitable for high-dimensional datasets.\n",
        "\n",
        "RealNVP introduces an affine coupling layer that splits the input into two parts, and one part of the data is transformed based on the other part. In simple terms, the transformation is applied conditionally on one part of the input, and the rest of the data remains unchanged.\n",
        "\n",
        "Mathematically, given a data point $\\mathbf{x} = \\mathbf{x}_A, \\mathbf{x}_B$, the transformation is applied to one part say $\\mathbf{x}_A$ conditioned on the other part $\\mathbf{x}_B$:\n",
        "\n",
        "$\\mathbf{x}_A' = \\mathbf{x}_A \\cdot \\exp(s(\\mathbf{x}_B)) + t(\\mathbf{x}_B)$\n",
        "\n",
        "Here:\n",
        "- $\\mathbf s({x}_B)$ is a scaling function that computes how much $x_{B}$ should be scaled\n",
        "- $\\mathbf t({x}_B)$ is a translation function that shifts $x_{B}$\n",
        "- The output $\\mathbf{x}_A'$ is the transformed version of $\\mathbf{x}_A$, while $\\mathbf{x}_B$ remains unchanged.\n",
        "\n",
        "RealNVP is designed to be invertible, which means we can efficiently compute both forward and backward transformations. Inverting the flow allows us to generate new samples by mapping points from the latent space back to the data space.\n",
        "\n",
        "For the coupling layer:\n",
        "$\\mathbf{x}_A = \\frac{\\mathbf{x}_A' - t(\\mathbf{x}_B)}{\\exp(s(\\mathbf{x}_B))}\n",
        "$\n",
        "\n",
        "This allows for easy sampling and likelihood evaluation, which is crucial for training.\n",
        "\n",
        "\n"
      ]
    },
    {
      "cell_type": "markdown",
      "metadata": {
        "id": "n5qXxgbNH43h"
      },
      "source": [
        "### I. Define the Model"
      ]
    },
    {
      "cell_type": "code",
      "execution_count": 24,
      "metadata": {
        "id": "9r1o4dDqNysn"
      },
      "outputs": [],
      "source": [
        "# Define model\n",
        "tfd = tfp.distributions\n",
        "tfb = tfp.bijectors\n",
        "\n",
        "class RealNVP(keras.Model): # RealNVP inherits from keras Model\n",
        "  def __init__(self, input_dim, hidden_dim, num_layers):\n",
        "    super(RealNVP, self).__init__()\n",
        "    self.input_dim = input_dim\n",
        "    self.hidden_dim = hidden_dim\n",
        "    self.num_layers = num_layers\n",
        "\n",
        "    self.masks = tf.constant(np.array([0, 1]*(input_dim//2) + [0]*(input_dim % 2)), dtype=tf.float32)\n",
        "    self.scale_nets = [self._build_net(input_dim, hidden_dim, num_layers) for _ in range(2)]\n",
        "    self.translate_nets = [self._build_net(input_dim, hidden_dim, num_layers) for _ in range(2)]\n",
        "\n",
        "    self.prior = tfd.Normal(loc=0.0, scale=1.0)\n",
        "\n",
        "  def _build_net(self, input_dim, hidden_dim, num_layers):\n",
        "    inputs = keras.Input(shape=(input_dim,))\n",
        "    x = layers.Dense(hidden_dim, activation='relu')(inputs)\n",
        "    for _ in range(num_layers - 2):\n",
        "      x = layers.Dense(hidden_dim, activation='relu')(x)\n",
        "    outputs = layers.Dense(input_dim)(x)\n",
        "    return keras.Model(inputs=inputs, outputs=outputs)\n",
        "\n",
        "  def call(self, x):\n",
        "    log_det_jacobian = 0.0\n",
        "    z = x\n",
        "    mask = self.masks\n",
        "    for i in range(2):\n",
        "      s = self.scale_nets[i](z*mask)\n",
        "      t = self.translate_nets[i](z*mask)\n",
        "      z = z*(1 - mask) + (z*tf.exp(s) + t)* mask\n",
        "      log_det_jacobian += tf.reduce_sum(s*mask, axis=1)\n",
        "      mask = 1 - mask\n",
        "    return z, log_det_jacobian\n",
        "\n",
        "  def inverse(self, z):\n",
        "    x = z\n",
        "    mask = 1 - self.masks\n",
        "    for i in reversed(range(2)):\n",
        "      s = self.scale_nets[i](x*mask)\n",
        "      t = self.translate_nets[i](x*mask)\n",
        "      x = x*(1 - mask) + (x - t)*tf.exp(-s)*mask\n",
        "      mask = 1- mask\n",
        "    return x\n",
        "\n",
        "  def log_prob(self, x):\n",
        "    z, log_det_jacobian = self.call(x)\n",
        "    log_prob = tf.reduce_sum(self.prior.log_prob(z), axis=1) + log_det_jacobian\n",
        "    return log_prob"
      ]
    },
    {
      "cell_type": "markdown",
      "metadata": {
        "id": "jXGI7e3XkNEU"
      },
      "source": [
        "### II. Train the Model"
      ]
    },
    {
      "cell_type": "code",
      "execution_count": 25,
      "metadata": {
        "colab": {
          "base_uri": "https://localhost:8080/"
        },
        "id": "pR4DGp2kms1k",
        "outputId": "949c8a10-d295-4303-f020-efc2a75d0bfa"
      },
      "outputs": [
        {
          "output_type": "stream",
          "name": "stdout",
          "text": [
            "Epoch 10/100, Loss:-1.7966\n",
            "Epoch 20/100, Loss:-2.4068\n",
            "Epoch 30/100, Loss:-2.6896\n",
            "Epoch 40/100, Loss:-2.9156\n",
            "Epoch 50/100, Loss:-2.8192\n",
            "Epoch 60/100, Loss:-3.1442\n",
            "Epoch 70/100, Loss:-3.0170\n",
            "Epoch 80/100, Loss:-3.2273\n",
            "Epoch 90/100, Loss:-3.2477\n",
            "Epoch 100/100, Loss:-3.3570\n"
          ]
        }
      ],
      "source": [
        "#Training Loop\n",
        "input_dim = 1\n",
        "hidden_dim = 64\n",
        "num_layers = 3\n",
        "model = RealNVP(input_dim, hidden_dim, num_layers)\n",
        "\n",
        "# Optimizer\n",
        "optimizer = keras.optimizers.Adam(learning_rate=1e-3)\n",
        "\n",
        "# Loss function\n",
        "def loss_fun(model, x):\n",
        "  log_prob = model.log_prob(x)\n",
        "  return -tf.reduce_mean(log_prob)\n",
        "\n",
        "# Training loop\n",
        "epochs = 100\n",
        "batch_size = 64\n",
        "X_train_tensor = tf.convert_to_tensor(X_train, dtype=tf.float32)\n",
        "\n",
        "for epoch in range(epochs):\n",
        "  for i in range(0, len(X_train_tensor), batch_size):\n",
        "    batch = X_train_tensor[i:i + batch_size]\n",
        "    with tf.GradientTape() as tape:\n",
        "      loss = loss_fun(model, batch)\n",
        "    gradients = tape.gradient(loss, model.trainable_variables)\n",
        "    optimizer.apply_gradients(zip(gradients, model.trainable_variables))\n",
        "\n",
        "  if (epoch + 1) %10 ==0:\n",
        "    print(f'Epoch {epoch+1}/{epochs}, Loss:{loss.numpy():.4f}')"
      ]
    },
    {
      "cell_type": "markdown",
      "metadata": {
        "id": "nG70qnW60c0a"
      },
      "source": [
        "### III. Generate and compare returns"
      ]
    },
    {
      "cell_type": "code",
      "execution_count": 29,
      "metadata": {
        "colab": {
          "base_uri": "https://localhost:8080/",
          "height": 452
        },
        "id": "c1SWsWXJ0sqm",
        "outputId": "3444d364-2d3e-45b5-e15a-3cc6cccc5658"
      },
      "outputs": [
        {
          "output_type": "display_data",
          "data": {
            "text/plain": [
              "<Figure size 640x480 with 1 Axes>"
            ],
            "image/png": "[encoded data removed]"
          },
          "metadata": {}
        }
      ],
      "source": [
        "# Evaluate log-likelihood on the test set\n",
        "X_test_tensor = tf.convert_to_tensor(X_test, dtype=tf.float32)\n",
        "train_log_prob = model.log_prob(X_train_tensor)\n",
        "train_log_likelihood = tf.reduce_mean(train_log_prob).numpy()\n",
        "test_log_prob = model.log_prob(X_test_tensor)\n",
        "test_log_likelihood = tf.reduce_mean(test_log_prob).numpy()\n",
        "\n",
        "# Sample from the learned distribution.\n",
        "num_samples = 1000\n",
        "z_samples = tf.random.normal((num_samples, input_dim))\n",
        "generated_samples_NVP = model.inverse(z_samples).numpy()\n",
        "\n",
        "# mean squared error between true and generated samples\n",
        "mse = mean_squared_error(X_train[:num_samples], generated_samples_NVP)\n",
        "\n",
        "results['RealNVP'] = {\n",
        "        'train_log_likelihood': train_log_likelihood,\n",
        "        'test_log_likelihood': test_log_likelihood,\n",
        "        'mse': mse\n",
        "    }\n",
        "\n",
        "#Plot\n",
        "plt.hist(X_test, bins=50, density=True, alpha=0.6, label='Real Returns')\n",
        "plt.hist(generated_samples_NVP, bins=50, density=True, alpha=0.6, label='Generated Samples')\n",
        "plt.title(\"Comparison of Generated and Real Returns: RealNVP\")\n",
        "plt.legend()\n",
        "plt.show()"
      ]
    },
    {
      "cell_type": "markdown",
      "metadata": {
        "id": "gt0o2XpfvAoj"
      },
      "source": [
        "### Step 3. Using Masked Autoregressive Flow"
      ]
    },
    {
      "cell_type": "markdown",
      "metadata": {
        "id": "Bh_8TF5svVPP"
      },
      "source": [
        "## What is Masked Autoregressive Flow?\n",
        "#### Masked autoregressive flow is a type of normalizing flow known as an autoregressive flow. It transforms a simple probability distribution (like a Gaussian) into a more complex one by applying a series of invertible transformations in an autoregressive manner. This means that each transformation depends only on the previously transformed variables.\n",
        "#### Consider a random variable $x = (x_1, x_2, ..., x_D)$, where $D$ is the number of dimensions. Instead of transforming the entire vector at once, autoregressive models transform each $x_i$ one at a time, using only information from previous components: $x_i = f_i(z_i; \\theta_i(x_{1:i-1}))$\n",
        "#### Here:\n",
        "\n",
        "#### $z_i$ is the latent (simpler) variable corresponding to $x_i$.\n",
        "\n",
        "#### $f_i$ is a transformation function for $x_i$.\n",
        "\n",
        "#### $\\theta_i(x_{1:i-1})$ is a set of parameters that depend only on previous components ($x_1, ..., x_{i-1}$).\n",
        "\n",
        "#### This step-by-step dependency structure is what makes the model autoregressive—each transformed variable depends only on the ones that came before it.\n",
        "\n",
        "### Illustration with a simple example\n",
        "#### Let’s say we want to model the probability distribution of two random variables, $x_1$ and $x_2$.\n",
        "\n",
        "#### We first transform $x_1$ based on a simple function:\n",
        "#### $x_1 = f_1(z_1) = z_1$\n",
        "\n",
        "#### This means $z_1$ follows a normal distribution.\n",
        "\n",
        "#### Next, we transform $x_2$ using an autoregressive function:\n",
        "\n",
        "#### $x_2 = f_2(z_2; x_1) = z_2 + g(x_1)$\n",
        "#### Here, $g(x_1)$ is a learned function that introduces dependence on $x_1$.\n",
        "\n",
        "#### To sample new data, we first sample $z_1$ and $z_2$ from a simple Gaussian distribution and apply the transformations in order.\n",
        "#### MAF (Masked Autoregressive Flow): Uses masking techniques to enforce the autoregressive structure in a neural network. This ensures that each variable\n",
        "#### $x_i$ only depends on previously transformed variables.\n",
        "### How Masking Works\n",
        "#### In standard neural network, a layer computes its output as $h = W\\cdot x + b$ where:\n",
        "* $W$ is the weight matrix\n",
        "* $x$ is the input vector\n",
        "* $b$ is the bias vector\n",
        "#### To enforce an autoregressive structure, we modify the weight matrix $W$ usinmg a mask matrix $M$:\n",
        "#### $h = (M ⊙ W)\\cdot x + b$\n",
        "#### where:\n",
        "#### * M is a binary matrix (containing 0s and 1s) that specifies which weights are allowed\n",
        "#### * $\\odot$ represents element-wise multiplication.\n",
        "#### This mask is designed in a way that ensures each $x_i$ depends only on $x_1, x_2, ..., x_{i-1}$.\n",
        "#### **Example:** Consider a simple example where we have three variables $x_1, x_2$, and $x_3$. Let the mask matrix be $M = \\begin{bmatrix}\n",
        "1 & 0 & 0 \\\\\n",
        "1 & 1 & 0 \\\\\n",
        "1 & 1 & 1\n",
        "\\end{bmatrix}$.\n",
        "#### This ensures that\n",
        "#### * $x_1$ doesn't depend on anything\n",
        "#### * $x_2$ depends only on $x_1$\n",
        "#### * $x_3$ depends on $x_1$ and $x_2$\n",
        "\n"
      ]
    },
    {
      "cell_type": "markdown",
      "metadata": {
        "id": "rmVmd-TCIfLw"
      },
      "source": [
        "### I. Define the Model"
      ]
    },
    {
      "cell_type": "code",
      "execution_count": 30,
      "metadata": {
        "id": "QXKS34qBvIR_"
      },
      "outputs": [],
      "source": [
        "class MaskedDense(layers.Layer):\n",
        "  def __init__(self, units, mask_type, **kwargs):\n",
        "    super(MaskedDense, self).__init__(**kwargs)\n",
        "    self.units = units\n",
        "    self.mask_type = mask_type\n",
        "\n",
        "  def build(self, input_shape):\n",
        "    self.kernel = self.add_weight(\n",
        "        shape=(input_shape[-1], self.units),\n",
        "        initializer='random_normal',\n",
        "        trainable=True\n",
        "    )\n",
        "\n",
        "    self.bias = self.add_weight(shape=(self.units,), initializer='zeros', trainable=True)\n",
        "    self.input_dim = input_shape[-1]\n",
        "\n",
        "    mask = np.ones((self.input_dim, self.units), dtype=np.float32)\n",
        "    if self.mask_type==\"A\":\n",
        "      mask[self.input_dim - 1, :] = 0\n",
        "    elif self.mask_type==\"B\":\n",
        "      mask[:self.input_dim - 1, :] = 1\n",
        "    self.mask = tf.constant(mask)\n",
        "\n",
        "  def call(self, inputs):\n",
        "    return tf.matmul(inputs, self.kernel*self.mask) + self.bias\n",
        "\n",
        "class MAF(keras.Model):\n",
        "  def __init__(self, input_dim, hidden_dim, num_layers):\n",
        "    super(MAF, self).__init__()\n",
        "    self.input_dim = input_dim\n",
        "    self.hidden_dim = hidden_dim\n",
        "    self.num_layers = num_layers\n",
        "\n",
        "    self.transforms = []\n",
        "    for i in range(num_layers):\n",
        "      self.transforms.append(self._build_transform())\n",
        "\n",
        "    self.prior = tfd.Normal(loc=0.0, scale=1.0)\n",
        "\n",
        "  def _build_transform(self):\n",
        "    net = keras.Sequential([\n",
        "            MaskedDense(self.hidden_dim, mask_type=\"A\"),\n",
        "            layers.ReLU(),\n",
        "            layers.Dense(self.hidden_dim, activation='relu'),\n",
        "            layers.Dense(self.input_dim * 2)  # Outputs scale and shift\n",
        "        ])\n",
        "\n",
        "        # Register net as a trainable layer\n",
        "    self.__setattr__(f\"net_{len(self.transforms)}\", net)\n",
        "\n",
        "    def transform(x):\n",
        "      h = net(x)\n",
        "      scale, translation = tf.split(h, num_or_size_splits=2, axis=-1)\n",
        "      scale = tf.tanh(scale)\n",
        "      shift_bijector = tfp.bijectors.Scale(scale=tf.exp(scale))\n",
        "      scale_bijector = tfp.bijectors.Shift(shift=translation)\n",
        "      bijector = tfp.bijectors.Chain([shift_bijector, scale_bijector])\n",
        "\n",
        "      return tfd.TransformedDistribution(\n",
        "          distribution=tfd.Normal(loc=x, scale=tf.exp(scale)),\n",
        "          bijector=bijector\n",
        "      )\n",
        "\n",
        "    return transform\n",
        "\n",
        "  def call(self, x):\n",
        "    log_prob = tf.zeros_like(x)\n",
        "    z = x\n",
        "    for transform in self.transforms:\n",
        "      dist = transform(z)\n",
        "      log_prob += dist.log_prob(z)\n",
        "      z = dist.sample()\n",
        "    return log_prob\n",
        "\n",
        "  def log_prob(self, x):\n",
        "    log_prob = tf.zeros_like(x)\n",
        "    z = x\n",
        "    for transform in self.transforms:\n",
        "      dist = transform(z)\n",
        "      log_prob += dist.log_prob(z)\n",
        "      z = dist.sample()\n",
        "    return log_prob\n",
        "\n",
        "  def sample(self, num_samples):\n",
        "    z = tf.random.normal((num_samples, self.input_dim))\n",
        "    x = z\n",
        "    for transform in reversed(self.transforms):\n",
        "      dist = transform(x)\n",
        "      x = dist.distribution.sample()\n",
        "    return x"
      ]
    },
    {
      "cell_type": "markdown",
      "metadata": {
        "id": "6P_5OYKyiAFl"
      },
      "source": [
        "### II. Train the Model"
      ]
    },
    {
      "cell_type": "code",
      "execution_count": 32,
      "metadata": {
        "colab": {
          "base_uri": "https://localhost:8080/"
        },
        "id": "fiHsy2vXiIqf",
        "outputId": "75b2d88d-3c4b-4b4b-981f-aadddaf8e794"
      },
      "outputs": [
        {
          "output_type": "stream",
          "name": "stdout",
          "text": [
            "Epoch [10/100]: Loss:0.2059\n",
            "Epoch [20/100]: Loss:-0.0805\n",
            "Epoch [30/100]: Loss:-0.1408\n",
            "Epoch [40/100]: Loss:-0.0794\n",
            "Epoch [50/100]: Loss:-0.0564\n",
            "Epoch [60/100]: Loss:-0.2298\n",
            "Epoch [70/100]: Loss:-0.1083\n",
            "Epoch [80/100]: Loss:-0.1281\n",
            "Epoch [90/100]: Loss:-0.1241\n",
            "Epoch [100/100]: Loss:-0.2481\n"
          ]
        }
      ],
      "source": [
        "# Instantiate the model\n",
        "input_dim = 1\n",
        "hidden_dim = 64\n",
        "num_layers = 3\n",
        "model = MAF(input_dim, hidden_dim, num_layers)\n",
        "\n",
        "# Optimizer\n",
        "optimizer = keras.optimizers.Adam(learning_rate = 1e-3)\n",
        "\n",
        "#Loss function\n",
        "def loss_fn(model, x):\n",
        "  log_prob = model.log_prob(x)\n",
        "  return -tf.reduce_mean(log_prob)\n",
        "\n",
        "# Training Loop\n",
        "epochs = 100\n",
        "batch_size = 64\n",
        "\n",
        "X_train_tensor = tf.convert_to_tensor(X_train, dtype=tf.float32)\n",
        "\n",
        "for epoch in range(epochs):\n",
        "  for i in range(0, len(X_train_tensor), batch_size):\n",
        "    batch = X_train_tensor[i:i + batch_size]\n",
        "    with tf.GradientTape() as tape:\n",
        "      loss = loss_fn(model, batch)\n",
        "\n",
        "    gradients = tape.gradient(loss, model.trainable_variables)\n",
        "    optimizer.apply_gradients(zip(gradients, model.trainable_variables))\n",
        "\n",
        "  if(epoch +1)%10==0:\n",
        "    print(f'Epoch [{epoch + 1}/{epochs}]: Loss:{loss.numpy():.4f}')"
      ]
    },
    {
      "cell_type": "markdown",
      "metadata": {
        "id": "AU81d_v52EZ1"
      },
      "source": [
        "### III. Generate and Compare Returns"
      ]
    },
    {
      "cell_type": "code",
      "execution_count": 33,
      "metadata": {
        "colab": {
          "base_uri": "https://localhost:8080/",
          "height": 452
        },
        "id": "GPHChGcW2ItG",
        "outputId": "d8644dbe-26a9-47a9-dd0a-c0520c106022"
      },
      "outputs": [
        {
          "output_type": "display_data",
          "data": {
            "text/plain": [
              "<Figure size 640x480 with 1 Axes>"
            ],
            "image/png": "[encoded data removed]"
          },
          "metadata": {}
        }
      ],
      "source": [
        "X_test_tensor = tf.convert_to_tensor(X_test, dtype=tf.float32)\n",
        "train_log_prob = model.log_prob(X_train_tensor)\n",
        "train_log_likelihood = tf.reduce_mean(train_log_prob).numpy()\n",
        "test_log_prob = model.log_prob(X_test_tensor)\n",
        "test_log_likelihood = tf.reduce_mean(test_log_prob).numpy()\n",
        "\n",
        "# Generate samples from the learned distribution\n",
        "num_samples = 1000\n",
        "generated_samples_MAF = model.sample(num_samples).numpy()\n",
        "\n",
        "# mean squared error between true and generated samples\n",
        "mse = mean_squared_error(X_train[:num_samples], generated_samples_MAF)\n",
        "\n",
        "results['MAF'] = {\n",
        "        'train_log_likelihood': train_log_likelihood,\n",
        "        'test_log_likelihood': test_log_likelihood,\n",
        "        'mse': mse\n",
        "    }\n",
        "\n",
        "# Plot\n",
        "plt.hist(X_test, bins=50, density=True, alpha=0.6, label='Real Returns')\n",
        "plt.hist(generated_samples_MAF, bins=50, density=True, alpha=0.6, label='Real Returns')\n",
        "plt.title(\"Comparison of Generated and Real Returns: MAF\")\n",
        "plt.legend()\n",
        "plt.show()"
      ]
    },
    {
      "cell_type": "markdown",
      "metadata": {
        "id": "JyG6301QLbYU"
      },
      "source": [
        "### Comparing the performance of RealNVP and MAF"
      ]
    },
    {
      "cell_type": "code",
      "execution_count": 34,
      "metadata": {
        "id": "dK939T10Lnzv",
        "colab": {
          "base_uri": "https://localhost:8080/"
        },
        "outputId": "c643ef50-e596-4190-d3bd-d68857248b55"
      },
      "outputs": [
        {
          "output_type": "stream",
          "name": "stdout",
          "text": [
            "\n",
            "Results for RealNVP:\n",
            "  Train Log-Likelihood: 2.9633\n",
            "  Test Log-Likelihood: 2.7660\n",
            "  MSE of Generated Samples: 2.2791\n",
            "\n",
            "Results for MAF:\n",
            "  Train Log-Likelihood: -0.7070\n",
            "  Test Log-Likelihood: -0.9520\n",
            "  MSE of Generated Samples: 3.3726\n"
          ]
        }
      ],
      "source": [
        "# Print out final results\n",
        "for model_name, result in results.items():\n",
        "    print(f'\\nResults for {model_name}:')\n",
        "    print(f'  Train Log-Likelihood: {result[\"train_log_likelihood\"]:.4f}')\n",
        "    print(f'  Test Log-Likelihood: {result[\"test_log_likelihood\"]:.4f}')\n",
        "    print(f'  MSE of Generated Samples: {result[\"mse\"]:.4f}')"
      ]
    },
    {
      "cell_type": "markdown",
      "source": [
        "### Interpretation\n",
        "#### Log-likelihood quantifies how well the model represents the data, with a higher log-likelihood indicating that the model assigns greater probability to the observed data, making it a better fit.\n",
        "\n",
        "#### Mean Squared Error (MSE) measures the discrepancy between the observed and generated data distributions. A lower MSE suggests that the generated samples closely resemble the real data, improving the model's generative performance.\n",
        "\n",
        "#### Since RealNVP exhibits a higher log-likelihood and a lower MSE compared to MAF, it more effectively models the data distribution and generates samples that are closer to the real data. Therefore, RealNVP is the superior model in this case."
      ],
      "metadata": {
        "id": "rnAHl4ip2dIo"
      }
    },
    {
      "cell_type": "markdown",
      "source": [
        "#### The third type of normalizing flow is Continuous Normalizing Flow (CNF). The following section presents its theoretical foundation without a code implementation."
      ],
      "metadata": {
        "id": "HY-E7XjqxDMO"
      }
    },
    {
      "cell_type": "markdown",
      "source": [
        "## Continuous Normalizing Flows (CNFs)\n",
        "#### Unlike discrete normilizing flows like coupling flows and autoregressive flows, which apply a sequence of invertible transformations to transform a simple distribution to a complex distribution, CNFs use continous time transformations.\n",
        "#### Neural networks become powerful when they have many processing layers. Consider a neural network where each layer of processing generates an output given by the input vector with the addition of some parametrized non-linear function of that input vector $z^{(t+1)} = z^{(t)} + f(z^{(t)}, \\theta)$ where\n",
        "#### $t = 1, ..., T$ labels the layer in the network.\n",
        "#### If we increase the number of layers while ensuring that the changes at each layer become correspomdingly smaller, the hidden-unit activation vector becomes a function $z(t)$ of a continuous variable $t$, and we can express the evolution of this vector through the network as a differential equation:\n",
        "#### $\\frac{dz(t)}{dt} = f(z(t), \\theta)$ ... $(*)$\n",
        "#### where $t$ is often referred to as 'time'. The formulation in (*) is known as a neural ordinary differential equation or neural ODE.\n",
        "#### If we denote the input to the network by the vector $z(0)$, then the output $z(T)$ is given by $z(T) = z(0) + \\int_{0}^{T} f(z(t), \\theta) \\, dt$\n",
        "#### Here:\n",
        "#### * $z(0) \\sim p_Z(z)$ is the base distribution\n",
        "#### * $z(T)$ represents the transformed variable corresponding to the target distribution $ p_X(x)$,  \n",
        "#### This integral can be solved using numerical integration packages.\n",
        "\n"
      ],
      "metadata": {
        "id": "DdXJ4W2Sw-7z"
      }
    }
  ],
  "metadata": {
    "accelerator": "GPU",
    "colab": {
      "gpuType": "T4",
      "provenance": [],
      "authorship_tag": "ABX9TyNBBILokHZjn22fJBe5Mu/h",
      "include_colab_link": true
    },
    "kernelspec": {
      "display_name": "Python 3",
      "name": "python3"
    },
    "language_info": {
      "name": "python"
    }
  },
  "nbformat": 4,
  "nbformat_minor": 0
}